{
 "cells": [
  {
   "cell_type": "markdown",
   "id": "004c71e0",
   "metadata": {},
   "source": [
    "# Dictionary in Python"
   ]
  },
  {
   "cell_type": "markdown",
   "id": "13b9b6fb",
   "metadata": {},
   "source": [
    "* dictionaries are key & value pairs enclosed in {}\n",
    "\n",
    "* key and value are seperated by : while key and value pairs are seperated by ,\n",
    "\n",
    "* keys are mapped to their values\n",
    "\n",
    "* In dictionaries, keys are unique, we can't have duplicate keys, we can have duplicate values.\n",
    "\n",
    "* dictionaries are unordered & mutable. keys of dictionaries can be used to iterate over values\n",
    "\n",
    "* {} is an empty dictionary\n",
    "\n",
    "* dict is class of dictionary"
   ]
  },
  {
   "cell_type": "markdown",
   "id": "3a5b8c1c",
   "metadata": {},
   "source": [
    "![](https://pynative.com/wp-content/uploads/2021/02/dictionaries-in-python.jpg)"
   ]
  },
  {
   "cell_type": "code",
   "execution_count": 1,
   "id": "25d2235e",
   "metadata": {},
   "outputs": [
    {
     "name": "stdout",
     "output_type": "stream",
     "text": [
      "{2: [11, 2.3, 44], 'hi': (25, 35, 45), ('a', 'b'): 50, 'name': 'harshit'}\n",
      "<class 'dict'>\n"
     ]
    }
   ],
   "source": [
    "x = {2:[11,2.3,44],\n",
    "    'hi':(25,35,45),\n",
    "    ('a','b'):50,\n",
    "    'name':'harshit'}\n",
    "\n",
    "print(x, type(x), sep = '\\n')"
   ]
  },
  {
   "cell_type": "code",
   "execution_count": 2,
   "id": "5ce00c96",
   "metadata": {},
   "outputs": [
    {
     "name": "stdout",
     "output_type": "stream",
     "text": [
      "{2: [11, 2.3, 44], 'hi': 50}\n"
     ]
    }
   ],
   "source": [
    "x = {2:[11,2.3,44],\n",
    "    'hi':(25,35,45),\n",
    "    'hi':50}\n",
    "\n",
    "print(x)"
   ]
  },
  {
   "cell_type": "markdown",
   "id": "043f3a7c",
   "metadata": {},
   "source": [
    "## Creating a dictionary"
   ]
  },
  {
   "cell_type": "markdown",
   "id": "65d679f9",
   "metadata": {},
   "source": [
    "* Dictionaries are key & value pairs enclosed in {}, key and value are seperated by`:` while key and value pairs are seperated by `,`"
   ]
  },
  {
   "cell_type": "code",
   "execution_count": 3,
   "id": "3ca07a77",
   "metadata": {},
   "outputs": [
    {
     "name": "stdout",
     "output_type": "stream",
     "text": [
      "{}\n",
      "<class 'dict'>\n"
     ]
    }
   ],
   "source": [
    "x = {} #empty dictionary\n",
    "\n",
    "print(x, type(x), sep = '\\n')"
   ]
  },
  {
   "cell_type": "code",
   "execution_count": 4,
   "id": "e5547683",
   "metadata": {},
   "outputs": [
    {
     "name": "stdout",
     "output_type": "stream",
     "text": [
      "{}\n",
      "<class 'dict'>\n"
     ]
    }
   ],
   "source": [
    "x = dict()\n",
    "print(x, type(x), sep = '\\n')"
   ]
  },
  {
   "cell_type": "code",
   "execution_count": 9,
   "id": "35528644",
   "metadata": {},
   "outputs": [
    {
     "name": "stdout",
     "output_type": "stream",
     "text": [
      "{4: 131, 23: 2200}\n",
      "<class 'dict'>\n"
     ]
    }
   ],
   "source": [
    "x = dict(((4,131),(23,2200)))\n",
    "print(x, type(x), sep = '\\n')"
   ]
  },
  {
   "cell_type": "code",
   "execution_count": 10,
   "id": "0ec28ff4",
   "metadata": {},
   "outputs": [
    {
     "name": "stdout",
     "output_type": "stream",
     "text": [
      "{11: [21, 22, 23, 111], 4: 45}\n",
      "<class 'dict'>\n"
     ]
    }
   ],
   "source": [
    "x = dict(((11,[21, 22, 23, 111]),(4,45)))\n",
    "print(x, type(x), sep = '\\n')"
   ]
  },
  {
   "cell_type": "markdown",
   "id": "f6c4cd95",
   "metadata": {},
   "source": [
    "### Accessing Items\n",
    "* You can access the items of a dictionary by referring to its key name, inside square brackets."
   ]
  },
  {
   "cell_type": "code",
   "execution_count": 6,
   "id": "aa72d48b",
   "metadata": {},
   "outputs": [
    {
     "name": "stdout",
     "output_type": "stream",
     "text": [
      "(25, 35, 45)\n",
      "35\n",
      "harshit\n",
      "h\n"
     ]
    }
   ],
   "source": [
    "x = {2:[11,2.3,44],\n",
    "    'hi':(25,35,45),\n",
    "    ('a','b'):50,\n",
    "    'name':'harshit'}\n",
    "\n",
    "print(x['hi'])\n",
    "print(x['hi'][1])\n",
    "print(x['name'])\n",
    "print(x['name'][4])"
   ]
  },
  {
   "cell_type": "code",
   "execution_count": 11,
   "id": "15041d25",
   "metadata": {},
   "outputs": [
    {
     "data": {
      "text/plain": [
       "['__class__',\n",
       " '__class_getitem__',\n",
       " '__contains__',\n",
       " '__delattr__',\n",
       " '__delitem__',\n",
       " '__dir__',\n",
       " '__doc__',\n",
       " '__eq__',\n",
       " '__format__',\n",
       " '__ge__',\n",
       " '__getattribute__',\n",
       " '__getitem__',\n",
       " '__getstate__',\n",
       " '__gt__',\n",
       " '__hash__',\n",
       " '__init__',\n",
       " '__init_subclass__',\n",
       " '__ior__',\n",
       " '__iter__',\n",
       " '__le__',\n",
       " '__len__',\n",
       " '__lt__',\n",
       " '__ne__',\n",
       " '__new__',\n",
       " '__or__',\n",
       " '__reduce__',\n",
       " '__reduce_ex__',\n",
       " '__repr__',\n",
       " '__reversed__',\n",
       " '__ror__',\n",
       " '__setattr__',\n",
       " '__setitem__',\n",
       " '__sizeof__',\n",
       " '__str__',\n",
       " '__subclasshook__',\n",
       " 'clear',\n",
       " 'copy',\n",
       " 'fromkeys',\n",
       " 'get',\n",
       " 'items',\n",
       " 'keys',\n",
       " 'pop',\n",
       " 'popitem',\n",
       " 'setdefault',\n",
       " 'update',\n",
       " 'values']"
      ]
     },
     "execution_count": 11,
     "metadata": {},
     "output_type": "execute_result"
    }
   ],
   "source": [
    "dir(dict)"
   ]
  },
  {
   "cell_type": "markdown",
   "id": "d70c4c6e",
   "metadata": {},
   "source": [
    "## Methods of Dictionary"
   ]
  },
  {
   "cell_type": "markdown",
   "id": "1f753eff",
   "metadata": {},
   "source": [
    "### get()"
   ]
  },
  {
   "cell_type": "markdown",
   "id": "10218ded",
   "metadata": {},
   "source": [
    "* The get() method returns the value of the item with the specified key."
   ]
  },
  {
   "cell_type": "markdown",
   "id": "35e6873c",
   "metadata": {},
   "source": [
    "* Syntax\n",
    "    * dictionary.get(keyname, value)\n",
    "* Parameters\n",
    "\n",
    "    * key - key to be searched in the dictionary\n",
    "    * value (optional) - Value to be returned if the key is not found. The default value is None.\n",
    "* Return Value\n",
    "    * the value for the specified key if key is in the dictionary.\n",
    "    * None if the key is not found and value is not specified.\n",
    "    * value if the key is not found and value is specified."
   ]
  },
  {
   "cell_type": "code",
   "execution_count": 12,
   "id": "704ea924",
   "metadata": {},
   "outputs": [
    {
     "name": "stdout",
     "output_type": "stream",
     "text": [
      "Help on method_descriptor:\n",
      "\n",
      "get(self, key, default=None, /)\n",
      "    Return the value for key if key is in the dictionary, else default.\n",
      "\n"
     ]
    }
   ],
   "source": [
    "help(dict.get)"
   ]
  },
  {
   "cell_type": "code",
   "execution_count": 13,
   "id": "b4abedb3",
   "metadata": {},
   "outputs": [
    {
     "name": "stdout",
     "output_type": "stream",
     "text": [
      "{'a': 111, 'b': 222, 'c': 333}\n"
     ]
    }
   ],
   "source": [
    "x = {'a':111,\n",
    "     'b':222,\n",
    "     'c':333}\n",
    "print(x)"
   ]
  },
  {
   "cell_type": "code",
   "execution_count": 15,
   "id": "180ab793",
   "metadata": {},
   "outputs": [
    {
     "name": "stdout",
     "output_type": "stream",
     "text": [
      "222\n"
     ]
    }
   ],
   "source": [
    "print(x.get('b'))"
   ]
  },
  {
   "cell_type": "code",
   "execution_count": 19,
   "id": "e71bc4f7",
   "metadata": {},
   "outputs": [
    {
     "name": "stdout",
     "output_type": "stream",
     "text": [
      "111\n"
     ]
    }
   ],
   "source": [
    "print(x.get('a'))"
   ]
  },
  {
   "cell_type": "code",
   "execution_count": 20,
   "id": "35e6df1b",
   "metadata": {},
   "outputs": [
    {
     "name": "stdout",
     "output_type": "stream",
     "text": [
      "None\n"
     ]
    }
   ],
   "source": [
    "print(x.get('z'))"
   ]
  },
  {
   "cell_type": "markdown",
   "id": "c31f845d",
   "metadata": {},
   "source": [
    "### update()"
   ]
  },
  {
   "cell_type": "markdown",
   "id": "521942a9",
   "metadata": {},
   "source": [
    "* The update() method updates the dictionary with the elements from another dictionary object or from an iterable of key/value pairs."
   ]
  },
  {
   "cell_type": "markdown",
   "id": "63a1bd22",
   "metadata": {},
   "source": [
    "* syntax:\n",
    "\n",
    "    * dict.update([other])\n",
    "* Parameters:\n",
    "    * The update() method takes either a dictionary or an iterable object of key/value pairs (generally tuples).\n",
    "\n",
    "    * If update() is called without passing parameters, the dictionary remains unchanged.\n",
    "\n",
    "* Return Value:\n",
    "    * update() method updates the dictionary with elements from a dictionary object or an iterable object of key/value pairs.\n",
    "\n",
    "    * It doesn't return any value (returns None)."
   ]
  },
  {
   "cell_type": "code",
   "execution_count": 21,
   "id": "75d16b74",
   "metadata": {},
   "outputs": [
    {
     "name": "stdout",
     "output_type": "stream",
     "text": [
      "Help on method_descriptor:\n",
      "\n",
      "update(...)\n",
      "    D.update([E, ]**F) -> None.  Update D from dict/iterable E and F.\n",
      "    If E is present and has a .keys() method, then does:  for k in E: D[k] = E[k]\n",
      "    If E is present and lacks a .keys() method, then does:  for k, v in E: D[k] = v\n",
      "    In either case, this is followed by: for k in F:  D[k] = F[k]\n",
      "\n"
     ]
    }
   ],
   "source": [
    "help(dict.update)"
   ]
  },
  {
   "cell_type": "code",
   "execution_count": 22,
   "id": "aeefd287",
   "metadata": {},
   "outputs": [
    {
     "name": "stdout",
     "output_type": "stream",
     "text": [
      "{'a': 111, 'b': 222, 'c': 333}\n"
     ]
    }
   ],
   "source": [
    "x = {'a':111,\n",
    "     'b':222,\n",
    "     'c':333}\n",
    "print(x)"
   ]
  },
  {
   "cell_type": "code",
   "execution_count": 23,
   "id": "30290144",
   "metadata": {},
   "outputs": [
    {
     "name": "stdout",
     "output_type": "stream",
     "text": [
      "{'a': 111, 'b': 222, 'c': 333, 'd': 444, 'e': 555}\n"
     ]
    }
   ],
   "source": [
    "x.update([('d' , 444),\n",
    "          ('e' , 555)])\n",
    "print(x)"
   ]
  },
  {
   "cell_type": "code",
   "execution_count": 24,
   "id": "11c7bcd2",
   "metadata": {},
   "outputs": [
    {
     "name": "stdout",
     "output_type": "stream",
     "text": [
      "{'a': 111, 'b': 222, 'c': 333, 'd': 444, 'e': 555, 'f': 666, 'g': 777}\n"
     ]
    }
   ],
   "source": [
    "x.update({'f':666 , 'g':777})\n",
    "\n",
    "print(x)"
   ]
  },
  {
   "cell_type": "markdown",
   "id": "17904578",
   "metadata": {},
   "source": [
    "### keys()"
   ]
  },
  {
   "cell_type": "markdown",
   "id": "018fd2a0",
   "metadata": {},
   "source": [
    "* The keys() method extracts the keys of the dictionary and returns the list of keys as a view object."
   ]
  },
  {
   "cell_type": "markdown",
   "id": "0955da66",
   "metadata": {},
   "source": [
    "* syntax:\n",
    "\n",
    "    * dict.keys()\n",
    "\n",
    "* Parameters:\n",
    "    * The keys() method doesn't take any parameters.\n",
    "* Return Value:\n",
    "\n",
    "    * A view object that displays the list of all the keys"
   ]
  },
  {
   "cell_type": "code",
   "execution_count": 25,
   "id": "616b2be5",
   "metadata": {},
   "outputs": [
    {
     "name": "stdout",
     "output_type": "stream",
     "text": [
      "Help on method_descriptor:\n",
      "\n",
      "keys(...)\n",
      "    D.keys() -> a set-like object providing a view on D's keys\n",
      "\n"
     ]
    }
   ],
   "source": [
    "help(dict.keys)"
   ]
  },
  {
   "cell_type": "code",
   "execution_count": 26,
   "id": "ebeac6aa",
   "metadata": {},
   "outputs": [
    {
     "name": "stdout",
     "output_type": "stream",
     "text": [
      "{'a1': 10, 'a2': 20, 'a3': 30}\n"
     ]
    }
   ],
   "source": [
    "x = {'a1':10,\n",
    "     'a2':20,\n",
    "     'a3':30}\n",
    "print(x)"
   ]
  },
  {
   "cell_type": "code",
   "execution_count": 29,
   "id": "47c78872",
   "metadata": {},
   "outputs": [
    {
     "data": {
      "text/plain": [
       "dict_keys(['a1', 'a2', 'a3'])"
      ]
     },
     "execution_count": 29,
     "metadata": {},
     "output_type": "execute_result"
    }
   ],
   "source": [
    "x.keys()"
   ]
  },
  {
   "cell_type": "code",
   "execution_count": 30,
   "id": "10bea344",
   "metadata": {},
   "outputs": [
    {
     "name": "stdout",
     "output_type": "stream",
     "text": [
      "dict_keys(['a1', 'a2', 'a3'])\n",
      "<class 'dict_keys'>\n",
      "3\n"
     ]
    }
   ],
   "source": [
    "a = x.keys()\n",
    "print(a, type(a), len(a), sep = '\\n')"
   ]
  },
  {
   "cell_type": "markdown",
   "id": "f9fac089",
   "metadata": {},
   "source": [
    "### values()"
   ]
  },
  {
   "cell_type": "markdown",
   "id": "a75263c7",
   "metadata": {},
   "source": [
    "\n",
    "* The values() method returns a view object that displays a list of all the values in the dictionary."
   ]
  },
  {
   "cell_type": "markdown",
   "id": "b7011d87",
   "metadata": {},
   "source": [
    "* syntax:\n",
    "\n",
    "    * dictionary.values()\n",
    "* Parameters\n",
    "    * values() method doesn't take any parameters.\n",
    "\n",
    "* Return value:\n",
    "    * values() method returns a view object that displays a list of all values in a given dictionary."
   ]
  },
  {
   "cell_type": "code",
   "execution_count": 32,
   "id": "2283321b",
   "metadata": {},
   "outputs": [
    {
     "name": "stdout",
     "output_type": "stream",
     "text": [
      "Help on method_descriptor:\n",
      "\n",
      "values(...)\n",
      "    D.values() -> an object providing a view on D's values\n",
      "\n"
     ]
    }
   ],
   "source": [
    "help(dict.values)"
   ]
  },
  {
   "cell_type": "code",
   "execution_count": 33,
   "id": "66e51dfe",
   "metadata": {},
   "outputs": [
    {
     "name": "stdout",
     "output_type": "stream",
     "text": [
      "{'a1': 10, 'a2': 20, 'a3': 30}\n"
     ]
    }
   ],
   "source": [
    "x = {'a1':10,\n",
    "     'a2':20,\n",
    "     'a3':30}\n",
    "print(x)"
   ]
  },
  {
   "cell_type": "code",
   "execution_count": 34,
   "id": "f5064b53",
   "metadata": {},
   "outputs": [
    {
     "data": {
      "text/plain": [
       "dict_values([10, 20, 30])"
      ]
     },
     "execution_count": 34,
     "metadata": {},
     "output_type": "execute_result"
    }
   ],
   "source": [
    "x.values()"
   ]
  },
  {
   "cell_type": "code",
   "execution_count": 35,
   "id": "7a9313eb",
   "metadata": {},
   "outputs": [
    {
     "name": "stdout",
     "output_type": "stream",
     "text": [
      "dict_values([10, 20, 30])\n",
      "<class 'dict_values'>\n",
      "3\n"
     ]
    }
   ],
   "source": [
    "a = x.values()\n",
    "print(a, type(a), len(a), sep = '\\n')"
   ]
  },
  {
   "cell_type": "markdown",
   "id": "c22190c8",
   "metadata": {},
   "source": [
    "### items()"
   ]
  },
  {
   "cell_type": "markdown",
   "id": "8267cda2",
   "metadata": {},
   "source": [
    "* The items() method returns a view object. The view object contains the key-value pairs of the dictionary, as tuples in a list."
   ]
  },
  {
   "cell_type": "markdown",
   "id": "c7e33d10",
   "metadata": {},
   "source": [
    "* Syntax:\n",
    "    * dictionary.items()"
   ]
  },
  {
   "cell_type": "code",
   "execution_count": 36,
   "id": "f671e158",
   "metadata": {},
   "outputs": [
    {
     "name": "stdout",
     "output_type": "stream",
     "text": [
      "Help on method_descriptor:\n",
      "\n",
      "items(...)\n",
      "    D.items() -> a set-like object providing a view on D's items\n",
      "\n"
     ]
    }
   ],
   "source": [
    "help(dict.items)"
   ]
  },
  {
   "cell_type": "code",
   "execution_count": 37,
   "id": "13ada112",
   "metadata": {},
   "outputs": [
    {
     "name": "stdout",
     "output_type": "stream",
     "text": [
      "{'a': 111, 'b': 222, 'c': 333, 'd': 444, 'e': 555, 'f': 666, 'g': 777}\n"
     ]
    }
   ],
   "source": [
    "x = {'a': 111, 'b': 222, 'c': 333, 'd': 444, 'e': 555, 'f': 666, 'g': 777}\n",
    "\n",
    "print(x)"
   ]
  },
  {
   "cell_type": "code",
   "execution_count": 38,
   "id": "e0dda3b6",
   "metadata": {},
   "outputs": [
    {
     "data": {
      "text/plain": [
       "dict_items([('a', 111), ('b', 222), ('c', 333), ('d', 444), ('e', 555), ('f', 666), ('g', 777)])"
      ]
     },
     "execution_count": 38,
     "metadata": {},
     "output_type": "execute_result"
    }
   ],
   "source": [
    "x.items()"
   ]
  },
  {
   "cell_type": "markdown",
   "id": "24d4017c",
   "metadata": {},
   "source": [
    "### pop()"
   ]
  },
  {
   "cell_type": "markdown",
   "id": "09406fe8",
   "metadata": {},
   "source": [
    "\n",
    "* The pop() method removes and returns an element from a dictionary having the given key."
   ]
  },
  {
   "cell_type": "markdown",
   "id": "222e13ee",
   "metadata": {},
   "source": [
    "* syntax:\n",
    "\n",
    "    * dictionary.pop(key[, default])\n",
    "* Parameters:\n",
    "    * key - key which is to be searched for removal\n",
    "    * default - value which is to be returned when the key is not in the dictionary\n",
    "* Return value:\n",
    "    * If key is found - removed/popped element from the dictionary\n",
    "    * If key is not found - value specified as the second argument (default)\n",
    "    * If key is not found and default argument is not specified - KeyError exception is raised"
   ]
  },
  {
   "cell_type": "code",
   "execution_count": 39,
   "id": "e4a74af1",
   "metadata": {},
   "outputs": [
    {
     "name": "stdout",
     "output_type": "stream",
     "text": [
      "Help on method_descriptor:\n",
      "\n",
      "pop(...)\n",
      "    D.pop(k[,d]) -> v, remove specified key and return the corresponding value.\n",
      "    \n",
      "    If the key is not found, return the default if given; otherwise,\n",
      "    raise a KeyError.\n",
      "\n"
     ]
    }
   ],
   "source": [
    "help(dict.pop)"
   ]
  },
  {
   "cell_type": "code",
   "execution_count": 40,
   "id": "12c56579",
   "metadata": {},
   "outputs": [
    {
     "name": "stdout",
     "output_type": "stream",
     "text": [
      "111\n"
     ]
    }
   ],
   "source": [
    "x = {'a': 111, 'b': 222, 'c': 333, 'd': 444, 'e': 555, 'f': 666, 'g': 777}\n",
    "\n",
    "print(x.pop('a'))"
   ]
  },
  {
   "cell_type": "code",
   "execution_count": 41,
   "id": "82a789a4",
   "metadata": {},
   "outputs": [
    {
     "name": "stdout",
     "output_type": "stream",
     "text": [
      "777\n"
     ]
    }
   ],
   "source": [
    "print(x.pop('g'))"
   ]
  },
  {
   "cell_type": "code",
   "execution_count": null,
   "id": "9d873724",
   "metadata": {},
   "outputs": [],
   "source": [
    "# x.pop()  #uncomment to see the error"
   ]
  },
  {
   "cell_type": "markdown",
   "id": "40164e26",
   "metadata": {},
   "source": [
    "### popitem()"
   ]
  },
  {
   "cell_type": "markdown",
   "id": "0b33cb22",
   "metadata": {},
   "source": [
    "* syntax:\n",
    "\n",
    "    * dict.popitem()\n",
    "* Return Value:\n",
    "    * The popitem() method removes and returns the (key, value) pair from the dictionary in the Last In, First Out (LIFO) order.\n",
    "\n",
    "        * Returns the latest inserted element (key,value) pair from the dictionary.\n",
    "        * Removes the returned element pair from the dictionary."
   ]
  },
  {
   "cell_type": "code",
   "execution_count": 45,
   "id": "e6076dac",
   "metadata": {},
   "outputs": [
    {
     "name": "stdout",
     "output_type": "stream",
     "text": [
      "Help on method_descriptor:\n",
      "\n",
      "popitem(self, /)\n",
      "    Remove and return a (key, value) pair as a 2-tuple.\n",
      "    \n",
      "    Pairs are returned in LIFO (last-in, first-out) order.\n",
      "    Raises KeyError if the dict is empty.\n",
      "\n"
     ]
    }
   ],
   "source": [
    "help(dict.popitem)"
   ]
  },
  {
   "cell_type": "code",
   "execution_count": 46,
   "id": "2a8ab6b6",
   "metadata": {},
   "outputs": [
    {
     "name": "stdout",
     "output_type": "stream",
     "text": [
      "('g', 777)\n"
     ]
    }
   ],
   "source": [
    "x = {'a': 111, 'b': 222, 'c': 333, 'd': 444, 'e': 555, 'f': 666, 'g': 777}\n",
    "\n",
    "print(x.popitem()) #last key value will remove"
   ]
  },
  {
   "cell_type": "markdown",
   "id": "731b90f0",
   "metadata": {},
   "source": [
    "### fromkeys()"
   ]
  },
  {
   "cell_type": "markdown",
   "id": "4cfa6662",
   "metadata": {},
   "source": [
    "* The fromkeys() method returns a dictionary with the specified keys and the specified value.\n"
   ]
  },
  {
   "cell_type": "markdown",
   "id": "879c4651",
   "metadata": {},
   "source": [
    "* Syntax\n",
    "    * dict.fromkeys(keys, value)"
   ]
  },
  {
   "cell_type": "code",
   "execution_count": 42,
   "id": "f62836c1",
   "metadata": {},
   "outputs": [
    {
     "name": "stdout",
     "output_type": "stream",
     "text": [
      "Help on built-in function fromkeys:\n",
      "\n",
      "fromkeys(iterable, value=None, /) method of builtins.type instance\n",
      "    Create a new dictionary with keys from iterable and values set to value.\n",
      "\n"
     ]
    }
   ],
   "source": [
    "help(dict.fromkeys)"
   ]
  },
  {
   "cell_type": "code",
   "execution_count": 44,
   "id": "f6ac1da4",
   "metadata": {},
   "outputs": [
    {
     "name": "stdout",
     "output_type": "stream",
     "text": [
      "{'a': None, 'b': None, 'c': None, 'd': None, 'e': None, 'f': None, 'g': None}\n"
     ]
    }
   ],
   "source": [
    "x = {'a': 111, 'b': 222, 'c': 333, 'd': 444, 'e': 555, 'f': 666, 'g': 777}\n",
    "\n",
    "print(x.fromkeys(x))"
   ]
  },
  {
   "cell_type": "markdown",
   "id": "6637da8b",
   "metadata": {},
   "source": [
    "### clear()"
   ]
  },
  {
   "cell_type": "markdown",
   "id": "5b11809d",
   "metadata": {},
   "source": [
    "* The clear() method removes all items from the dictionary."
   ]
  },
  {
   "cell_type": "markdown",
   "id": "62056edb",
   "metadata": {},
   "source": [
    "* syntax:\n",
    "\n",
    "    * dictionary.clear()\n",
    "* Parameters:\n",
    "    * The clear() method doesn't take any parameters.\n",
    "\n",
    "* Return Value:\n",
    "    * The clear() method doesn't return any value."
   ]
  },
  {
   "cell_type": "code",
   "execution_count": 47,
   "id": "4ed523a6",
   "metadata": {},
   "outputs": [
    {
     "name": "stdout",
     "output_type": "stream",
     "text": [
      "Help on method_descriptor:\n",
      "\n",
      "clear(...)\n",
      "    D.clear() -> None.  Remove all items from D.\n",
      "\n"
     ]
    }
   ],
   "source": [
    "help(dict.clear)"
   ]
  },
  {
   "cell_type": "code",
   "execution_count": 51,
   "id": "1d9b6528",
   "metadata": {},
   "outputs": [
    {
     "name": "stdout",
     "output_type": "stream",
     "text": [
      "{}\n"
     ]
    }
   ],
   "source": [
    "x = {'a': 111, 'b': 222, 'c': 333, 'd': 444, 'e': 555, 'f': 666, 'g': 777}\n",
    "\n",
    "y = x.clear()\n",
    "print(x)"
   ]
  },
  {
   "cell_type": "markdown",
   "id": "f3b49838",
   "metadata": {},
   "source": [
    "### copy()"
   ]
  },
  {
   "cell_type": "markdown",
   "id": "069d816d",
   "metadata": {},
   "source": [
    "* They copy() method returns a copy (shallow copy) of the dictionary."
   ]
  },
  {
   "cell_type": "markdown",
   "id": "4650c122",
   "metadata": {},
   "source": [
    "* syntax:\n",
    "\n",
    "    * dict.copy()\n",
    "* Arguments:\n",
    "    * The copy() method doesn't take any arguments.\n",
    "\n",
    "* Return Value:\n",
    "    * This method returns a shallow copy of the dictionary. It doesn't modify the original dictionary."
   ]
  },
  {
   "cell_type": "code",
   "execution_count": 52,
   "id": "da92ac6b",
   "metadata": {},
   "outputs": [
    {
     "name": "stdout",
     "output_type": "stream",
     "text": [
      "Help on method_descriptor:\n",
      "\n",
      "copy(...)\n",
      "    D.copy() -> a shallow copy of D\n",
      "\n"
     ]
    }
   ],
   "source": [
    "help(dict.copy)"
   ]
  },
  {
   "cell_type": "code",
   "execution_count": 53,
   "id": "f857ca29",
   "metadata": {},
   "outputs": [
    {
     "name": "stdout",
     "output_type": "stream",
     "text": [
      "{'x': 11, 'y': 22}\n",
      "{'x': 11, 'y': 22}\n"
     ]
    }
   ],
   "source": [
    "a = {'x':11, 'y':22}\n",
    "\n",
    "b = a.copy()\n",
    "\n",
    "print(a)\n",
    "print(b)"
   ]
  },
  {
   "cell_type": "markdown",
   "id": "f8ab53d8",
   "metadata": {},
   "source": [
    "### setdefault()"
   ]
  },
  {
   "cell_type": "markdown",
   "id": "0b74bb33",
   "metadata": {},
   "source": [
    "* The setdefault() method returns the value of the item with the specified key."
   ]
  },
  {
   "cell_type": "markdown",
   "id": "ddcc711c",
   "metadata": {},
   "source": [
    "* Syntax:\n",
    "    * dictionary.setdefault(keyname, value)"
   ]
  },
  {
   "cell_type": "code",
   "execution_count": 54,
   "id": "f383e2e8",
   "metadata": {},
   "outputs": [
    {
     "name": "stdout",
     "output_type": "stream",
     "text": [
      "Help on method_descriptor:\n",
      "\n",
      "setdefault(self, key, default=None, /)\n",
      "    Insert key with a value of default if key is not in the dictionary.\n",
      "    \n",
      "    Return the value for key if key is in the dictionary, else default.\n",
      "\n"
     ]
    }
   ],
   "source": [
    "help(dict.setdefault)"
   ]
  },
  {
   "cell_type": "code",
   "execution_count": 57,
   "id": "a1862ed9",
   "metadata": {},
   "outputs": [
    {
     "name": "stdout",
     "output_type": "stream",
     "text": [
      "mango\n",
      "2000\n"
     ]
    }
   ],
   "source": [
    "x = {'a1': 'apple',\n",
    "     'a2': 'mango',\n",
    "     'a3': 2000}\n",
    "\n",
    "y = x.setdefault('a2', 'banana')\n",
    "z = x.setdefault('a3', 2020)\n",
    "print(y)\n",
    "print(z)"
   ]
  },
  {
   "cell_type": "markdown",
   "id": "c2da51c1",
   "metadata": {},
   "source": [
    "# String Methods"
   ]
  },
  {
   "cell_type": "markdown",
   "id": "d4dabd85",
   "metadata": {},
   "source": [
    "## maketrans() and translate() functions in Python"
   ]
  },
  {
   "cell_type": "markdown",
   "id": "9ae009d0",
   "metadata": {},
   "source": [
    "* To translate the characters in the string translate() is used to make the translations. This function uses the translation mapping specified using the maketrans()."
   ]
  },
  {
   "cell_type": "markdown",
   "id": "981093f2",
   "metadata": {},
   "source": [
    "* Syntax :\n",
    "    * translate(table, delstr)\n",
    "\n",
    "* Parameters :\n",
    "    * table : Translate mapping specified to perform translations.\n",
    "    * delstr : The delete string can be specified as optional argument is not mentioned in table.\n",
    "\n",
    "* Returns :\n",
    "    * Returns the argument string after performing the translations using the translation table."
   ]
  },
  {
   "cell_type": "code",
   "execution_count": 58,
   "id": "06a3b1a0",
   "metadata": {},
   "outputs": [
    {
     "name": "stdout",
     "output_type": "stream",
     "text": [
      "Help on built-in function maketrans:\n",
      "\n",
      "maketrans(...)\n",
      "    Return a translation table usable for str.translate().\n",
      "    \n",
      "    If there is only one argument, it must be a dictionary mapping Unicode\n",
      "    ordinals (integers) or characters to Unicode ordinals, strings or None.\n",
      "    Character keys will be then converted to ordinals.\n",
      "    If there are two arguments, they must be strings of equal length, and\n",
      "    in the resulting dictionary, each character in x will be mapped to the\n",
      "    character at the same position in y. If there is a third argument, it\n",
      "    must be a string, whose characters will be mapped to None in the result.\n",
      "\n"
     ]
    }
   ],
   "source": [
    "help(str.maketrans)"
   ]
  },
  {
   "cell_type": "code",
   "execution_count": 2,
   "id": "ff38d3a6",
   "metadata": {},
   "outputs": [
    {
     "name": "stdout",
     "output_type": "stream",
     "text": [
      "Help on method_descriptor:\n",
      "\n",
      "translate(self, table, /)\n",
      "    Replace each character in the string using the given translation table.\n",
      "    \n",
      "      table\n",
      "        Translation table, which must be a mapping of Unicode ordinals to\n",
      "        Unicode ordinals, strings, or None.\n",
      "    \n",
      "    The table must implement lookup/indexing via __getitem__, for instance a\n",
      "    dictionary or list.  If this operation raises LookupError, the character is\n",
      "    left untouched.  Characters mapped to None are deleted.\n",
      "\n"
     ]
    }
   ],
   "source": [
    "help(str.translate)"
   ]
  },
  {
   "cell_type": "code",
   "execution_count": 59,
   "id": "9b597099",
   "metadata": {},
   "outputs": [
    {
     "name": "stdout",
     "output_type": "stream",
     "text": [
      "{112: 'HH', 64: 1000, 109: 'll'}\n"
     ]
    }
   ],
   "source": [
    "a = 'python@programming'\n",
    "\n",
    "b = a.maketrans({'p':'HH',   # the value of p,@,m is given by ascii value.\n",
    "                 '@':1000,\n",
    "                 'm':'ll'})\n",
    "print(b)"
   ]
  },
  {
   "cell_type": "code",
   "execution_count": 61,
   "id": "98c8a84f",
   "metadata": {},
   "outputs": [
    {
     "name": "stdout",
     "output_type": "stream",
     "text": [
      "HHythonϨHHrogralllling\n"
     ]
    }
   ],
   "source": [
    "print(a.translate(b))"
   ]
  },
  {
   "cell_type": "code",
   "execution_count": 67,
   "id": "90979a69",
   "metadata": {},
   "outputs": [
    {
     "name": "stdout",
     "output_type": "stream",
     "text": [
      "{97: 'name', 104: 'harshit'}\n"
     ]
    }
   ],
   "source": [
    "x = 'my a is h'\n",
    "\n",
    "y = x.maketrans({'a':'name',  \n",
    "                 'h':'harshit'})\n",
    "print(y)"
   ]
  },
  {
   "cell_type": "code",
   "execution_count": 68,
   "id": "966fe53e",
   "metadata": {},
   "outputs": [
    {
     "name": "stdout",
     "output_type": "stream",
     "text": [
      "my name is harshit\n"
     ]
    }
   ],
   "source": [
    "print(x.translate(y))"
   ]
  },
  {
   "cell_type": "code",
   "execution_count": null,
   "id": "e0a88452",
   "metadata": {},
   "outputs": [],
   "source": []
  }
 ],
 "metadata": {
  "kernelspec": {
   "display_name": "Python 3 (ipykernel)",
   "language": "python",
   "name": "python3"
  },
  "language_info": {
   "codemirror_mode": {
    "name": "ipython",
    "version": 3
   },
   "file_extension": ".py",
   "mimetype": "text/x-python",
   "name": "python",
   "nbconvert_exporter": "python",
   "pygments_lexer": "ipython3",
   "version": "3.11.5"
  }
 },
 "nbformat": 4,
 "nbformat_minor": 5
}
